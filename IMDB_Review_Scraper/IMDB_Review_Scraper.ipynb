{
 "cells": [
  {
   "cell_type": "markdown",
   "id": "5c1a383d",
   "metadata": {},
   "source": [
    "# IMDB Review Scraper\n",
    "\n",
    "This is an interactive scraper. It is robust but not %100 automized but can easily be converted to a script.\n",
    "\n",
    "I used XPATHs in order to find elements on the website."
   ]
  },
  {
   "cell_type": "code",
   "execution_count": 1,
   "id": "277c3513",
   "metadata": {},
   "outputs": [],
   "source": [
    "import selenium\n",
    "from selenium import webdriver\n",
    "import pandas as pd\n",
    "import time\n",
    "from selenium.webdriver.common.by import By\n",
    "from selenium.webdriver.support.ui import WebDriverWait\n",
    "from selenium.webdriver.support import expected_conditions as EC"
   ]
  },
  {
   "cell_type": "code",
   "execution_count": 2,
   "id": "1341f505",
   "metadata": {},
   "outputs": [],
   "source": [
    "## This sets the page language option for Firefox. It doesn't change the Firefox's visual language.\n",
    "\n",
    "options = webdriver.FirefoxOptions()\n",
    "options.set_preference('intl.accept_languages', 'en-US')\n",
    "\n",
    "## I am use Firefox in this project but this can easily be changed.\n",
    "driver = webdriver.Firefox(executable_path=\"geckodriver.exe\",options=options)"
   ]
  },
  {
   "cell_type": "code",
   "execution_count": 3,
   "id": "5be63b3f",
   "metadata": {},
   "outputs": [],
   "source": [
    "## IMDB User Review Section Links go into this list.\n",
    "\n",
    "review_links = [\n",
    "    \"https://www.imdb.com/title/tt1615147/reviews?ref_=tt_ov_rt\"\n",
    "    \n",
    "]\n",
    "\n",
    "## This dictionary is a control measure. Scraped movie names and total review numbers go here.\n",
    "## At the end of the scraping process I compare this with what I scraped.\n",
    "\n",
    "review_counts = {\"Movie\" : [], \"Counter\" : []}\n",
    "\n",
    "## The Dictonary to hold the review data        \n",
    "\n",
    "review_set = {\n",
    "    \"Rating\" : [],\n",
    "    \"Title\" : [],\n",
    "    \"Date\" : [],\n",
    "    \"Helpful_Vote\" : [],\n",
    "    \"Total_Vote\" : [],\n",
    "    \"Review\" : [],\n",
    "    \"Movie\" : []\n",
    "    \n",
    "}\n",
    "\n",
    "## User Review Section Links go into this for loop\n",
    "\n",
    "for link in review_links:\n",
    "    driver.get(link)\n",
    "\n",
    "    ## After User Reviews Page loads, While loop starts to load all the comments\n",
    "    \n",
    "    ## Be sure to have a stable and fast internet connection\n",
    "    \n",
    "    ## Script explicitly waits for the \"load more\" element for 10 seconds in order to make sure that\n",
    "    ## every review is loaded.\n",
    "\n",
    "    ## As a safe guard against infinite while loop in case of the bad internet,\n",
    "    ## I also added the times_continued variable to break the while loop after 6 tries.\n",
    "\n",
    "\n",
    "    times_continued = 0\n",
    "    page = True\n",
    "    while page:\n",
    "        try:\n",
    "            load_more = WebDriverWait(driver, 10).until(\n",
    "                EC.presence_of_element_located((By.XPATH, \"//div[@class='ipl-load-more ipl-load-more--loaded']/button[@id='load-more-trigger']\")))\n",
    "            load_more.click()\n",
    "            time.sleep(1)\n",
    "\n",
    "        except selenium.common.exceptions.TimeoutException:\n",
    "            loaded_all = driver.find_elements_by_xpath(\"//div[@class='ipl-load-more ipl-load-more--loaded-all']\")\n",
    "\n",
    "            if len(loaded_all) == 1:\n",
    "                page = False\n",
    "            else:\n",
    "                times_continued += 1\n",
    "                if times_continued < 7:\n",
    "                    continue\n",
    "                else:\n",
    "                    page = False\n",
    "\n",
    "\n",
    "    ## Finding Spoiler/Long Review Expanders. Be careful that even reviews without spoiler or long\n",
    "    ## reviews have expanders. This is why I am using an exception here.\n",
    "\n",
    "    expanders = driver.find_elements_by_xpath(\"//div[@class='ipl-expander ']\")\n",
    "\n",
    "    ## Expanding all the comments\n",
    "\n",
    "    for button in expanders:\n",
    "        try:\n",
    "            button.click()\n",
    "        except selenium.common.exceptions.ElementNotInteractableException:\n",
    "            continue\n",
    "\n",
    "\n",
    "    ## Ratings -- Some Reviews don't have ratings so throwing exception here.\n",
    "\n",
    "    item_contents = driver.find_elements_by_xpath(\"//div[@class='lister-item-content']\")\n",
    "\n",
    "    for item in item_contents:\n",
    "        try:\n",
    "            review_set[\"Rating\"].append(item.find_element_by_class_name(\"ipl-ratings-bar\").text)\n",
    "        except selenium.common.exceptions.NoSuchElementException:\n",
    "            review_set[\"Rating\"].append(\"NA\")\n",
    "\n",
    "\n",
    "    ## Review Titles\n",
    "\n",
    "    review_set[\"Title\"].extend(i.text for i in driver.find_elements_by_xpath(\"//div[@class='lister-item-content']/a[@class='title']\"))\n",
    "\n",
    "    ## Review Dates\n",
    "\n",
    "    review_set[\"Date\"].extend(i.text for i in driver.find_elements_by_xpath(\"//div[@class='display-name-date']/span[@class='review-date']\"))\n",
    "\n",
    "    ## Helpfulness and Movie Name\n",
    "\n",
    "    movie_name = driver.find_element_by_xpath(\"//h3[@itemprop='name']/a\").text\n",
    "\n",
    "    for i in driver.find_elements_by_xpath(\"//div[@class='actions text-muted']\"):\n",
    "        temp_list = i.text.split(\" \")\n",
    "        review_set[\"Helpful_Vote\"].append(temp_list[0])\n",
    "        review_set[\"Total_Vote\"].append(temp_list[3])\n",
    "        review_set[\"Movie\"].append(movie_name)\n",
    "\n",
    "    ## Reviews\n",
    "\n",
    "    review_set[\"Review\"].extend(i.text for i in driver.find_elements_by_xpath(\"//div[@class='text show-more__control']\"))\n",
    "    \n",
    "    ## Review Total\n",
    "    \n",
    "    review_total = driver.find_element_by_xpath(\"//div[@class='header']/div/span\").text\n",
    "    \n",
    "    ## This is my control measure dictionary I mentioned above.\n",
    "    \n",
    "    review_counts[\"Movie\"].append(movie_name)\n",
    "    review_counts[\"Counter\"].append(review_total)\n"
   ]
  },
  {
   "cell_type": "code",
   "execution_count": 4,
   "id": "98dce7db",
   "metadata": {
    "scrolled": true
   },
   "outputs": [
    {
     "name": "stdout",
     "output_type": "stream",
     "text": [
      "349\n",
      "349\n",
      "349\n",
      "349\n",
      "349\n",
      "349\n",
      "349\n"
     ]
    }
   ],
   "source": [
    "## This is the other control measure.\n",
    "## I am making sure that every list in the dictionary has the same length.\n",
    "## If they are not equal, something went wrong.\n",
    "\n",
    "for i in review_set.keys():\n",
    "    print(len(review_set[i]))"
   ]
  },
  {
   "cell_type": "code",
   "execution_count": 5,
   "id": "71b38190",
   "metadata": {},
   "outputs": [
    {
     "data": {
      "text/html": [
       "<div>\n",
       "<style scoped>\n",
       "    .dataframe tbody tr th:only-of-type {\n",
       "        vertical-align: middle;\n",
       "    }\n",
       "\n",
       "    .dataframe tbody tr th {\n",
       "        vertical-align: top;\n",
       "    }\n",
       "\n",
       "    .dataframe thead th {\n",
       "        text-align: right;\n",
       "    }\n",
       "</style>\n",
       "<table border=\"1\" class=\"dataframe\">\n",
       "  <thead>\n",
       "    <tr style=\"text-align: right;\">\n",
       "      <th></th>\n",
       "      <th>Rating</th>\n",
       "      <th>Title</th>\n",
       "      <th>Date</th>\n",
       "      <th>Helpful_Vote</th>\n",
       "      <th>Total_Vote</th>\n",
       "      <th>Review</th>\n",
       "      <th>Movie</th>\n",
       "    </tr>\n",
       "  </thead>\n",
       "  <tbody>\n",
       "    <tr>\n",
       "      <th>0</th>\n",
       "      <td>9/10</td>\n",
       "      <td>the unofficial wall street sequel</td>\n",
       "      <td>8 September 2011</td>\n",
       "      <td>142</td>\n",
       "      <td>179</td>\n",
       "      <td>While I am a big fan of Oliver Stone and I did...</td>\n",
       "      <td>Margin Call</td>\n",
       "    </tr>\n",
       "    <tr>\n",
       "      <th>1</th>\n",
       "      <td>8/10</td>\n",
       "      <td>First-Time Filmmaker Deftly Handles the Financ...</td>\n",
       "      <td>23 October 2011</td>\n",
       "      <td>118</td>\n",
       "      <td>141</td>\n",
       "      <td>Having been the victim of corporate downsizing...</td>\n",
       "      <td>Margin Call</td>\n",
       "    </tr>\n",
       "    <tr>\n",
       "      <th>2</th>\n",
       "      <td>10/10</td>\n",
       "      <td>11 years on, you realise little has changed.</td>\n",
       "      <td>10 December 2019</td>\n",
       "      <td>27</td>\n",
       "      <td>29</td>\n",
       "      <td>A superb, low-key dramatisation of the initial...</td>\n",
       "      <td>Margin Call</td>\n",
       "    </tr>\n",
       "    <tr>\n",
       "      <th>3</th>\n",
       "      <td>NA</td>\n",
       "      <td>Perfect visualization of recent financial cris...</td>\n",
       "      <td>17 October 2011</td>\n",
       "      <td>79</td>\n",
       "      <td>104</td>\n",
       "      <td>I saw this film as part of the Ghent filmfesti...</td>\n",
       "      <td>Margin Call</td>\n",
       "    </tr>\n",
       "    <tr>\n",
       "      <th>4</th>\n",
       "      <td>10/10</td>\n",
       "      <td>Quietly gripping morality tale - a near perfec...</td>\n",
       "      <td>23 October 2011</td>\n",
       "      <td>394</td>\n",
       "      <td>460</td>\n",
       "      <td>Saw this last night. Set at a Wall Street firm...</td>\n",
       "      <td>Margin Call</td>\n",
       "    </tr>\n",
       "    <tr>\n",
       "      <th>...</th>\n",
       "      <td>...</td>\n",
       "      <td>...</td>\n",
       "      <td>...</td>\n",
       "      <td>...</td>\n",
       "      <td>...</td>\n",
       "      <td>...</td>\n",
       "      <td>...</td>\n",
       "    </tr>\n",
       "    <tr>\n",
       "      <th>344</th>\n",
       "      <td>7/10</td>\n",
       "      <td>Frankly a little dull, but conveying a (likely...</td>\n",
       "      <td>30 December 2016</td>\n",
       "      <td>0</td>\n",
       "      <td>2</td>\n",
       "      <td>I had read good reviews of this film, and comb...</td>\n",
       "      <td>Margin Call</td>\n",
       "    </tr>\n",
       "    <tr>\n",
       "      <th>345</th>\n",
       "      <td>5/10</td>\n",
       "      <td>Terrifying</td>\n",
       "      <td>1 February 2013</td>\n",
       "      <td>0</td>\n",
       "      <td>3</td>\n",
       "      <td>This movie is terrifying. There's this guy wit...</td>\n",
       "      <td>Margin Call</td>\n",
       "    </tr>\n",
       "    <tr>\n",
       "      <th>346</th>\n",
       "      <td>6/10</td>\n",
       "      <td>Great acting but not much excitement</td>\n",
       "      <td>26 June 2022</td>\n",
       "      <td>0</td>\n",
       "      <td>1</td>\n",
       "      <td>The best way that I can describe this movie is...</td>\n",
       "      <td>Margin Call</td>\n",
       "    </tr>\n",
       "    <tr>\n",
       "      <th>347</th>\n",
       "      <td>1/10</td>\n",
       "      <td>Shame on Netflix!</td>\n",
       "      <td>10 March 2022</td>\n",
       "      <td>1</td>\n",
       "      <td>22</td>\n",
       "      <td>Shame on Netflix for airing a program that sta...</td>\n",
       "      <td>Margin Call</td>\n",
       "    </tr>\n",
       "    <tr>\n",
       "      <th>348</th>\n",
       "      <td>4/10</td>\n",
       "      <td>Not very good</td>\n",
       "      <td>23 July 2020</td>\n",
       "      <td>0</td>\n",
       "      <td>4</td>\n",
       "      <td>The movie itself isn't bad but in no way is it...</td>\n",
       "      <td>Margin Call</td>\n",
       "    </tr>\n",
       "  </tbody>\n",
       "</table>\n",
       "<p>349 rows × 7 columns</p>\n",
       "</div>"
      ],
      "text/plain": [
       "    Rating                                              Title  \\\n",
       "0     9/10                  the unofficial wall street sequel   \n",
       "1     8/10  First-Time Filmmaker Deftly Handles the Financ...   \n",
       "2    10/10       11 years on, you realise little has changed.   \n",
       "3       NA  Perfect visualization of recent financial cris...   \n",
       "4    10/10  Quietly gripping morality tale - a near perfec...   \n",
       "..     ...                                                ...   \n",
       "344   7/10  Frankly a little dull, but conveying a (likely...   \n",
       "345   5/10                                         Terrifying   \n",
       "346   6/10               Great acting but not much excitement   \n",
       "347   1/10                                  Shame on Netflix!   \n",
       "348   4/10                                      Not very good   \n",
       "\n",
       "                 Date Helpful_Vote Total_Vote  \\\n",
       "0    8 September 2011          142        179   \n",
       "1     23 October 2011          118        141   \n",
       "2    10 December 2019           27         29   \n",
       "3     17 October 2011           79        104   \n",
       "4     23 October 2011          394        460   \n",
       "..                ...          ...        ...   \n",
       "344  30 December 2016            0          2   \n",
       "345   1 February 2013            0          3   \n",
       "346      26 June 2022            0          1   \n",
       "347     10 March 2022            1         22   \n",
       "348      23 July 2020            0          4   \n",
       "\n",
       "                                                Review        Movie  \n",
       "0    While I am a big fan of Oliver Stone and I did...  Margin Call  \n",
       "1    Having been the victim of corporate downsizing...  Margin Call  \n",
       "2    A superb, low-key dramatisation of the initial...  Margin Call  \n",
       "3    I saw this film as part of the Ghent filmfesti...  Margin Call  \n",
       "4    Saw this last night. Set at a Wall Street firm...  Margin Call  \n",
       "..                                                 ...          ...  \n",
       "344  I had read good reviews of this film, and comb...  Margin Call  \n",
       "345  This movie is terrifying. There's this guy wit...  Margin Call  \n",
       "346  The best way that I can describe this movie is...  Margin Call  \n",
       "347  Shame on Netflix for airing a program that sta...  Margin Call  \n",
       "348  The movie itself isn't bad but in no way is it...  Margin Call  \n",
       "\n",
       "[349 rows x 7 columns]"
      ]
     },
     "execution_count": 5,
     "metadata": {},
     "output_type": "execute_result"
    }
   ],
   "source": [
    "## After seeing every list has the same length,\n",
    "## I convert the dictionary into a Pandas DataFrame\n",
    "\n",
    "movie_reviews = pd.DataFrame(review_set)\n",
    "movie_reviews"
   ]
  },
  {
   "cell_type": "code",
   "execution_count": 6,
   "id": "cd0683c1",
   "metadata": {},
   "outputs": [
    {
     "name": "stdout",
     "output_type": "stream",
     "text": [
      "Margin Call  : 349 Reviews\n"
     ]
    }
   ],
   "source": [
    "## Printing movie names and total review counts from the IMDB.\n",
    "## Then I am going to compare the number with the value_counts method of the DataFrame\n",
    "\n",
    "for i,k in zip(review_counts[\"Movie\"],review_counts[\"Counter\"]):\n",
    "    print(i,\" :\",k)"
   ]
  },
  {
   "cell_type": "code",
   "execution_count": 7,
   "id": "2ec27ade",
   "metadata": {},
   "outputs": [
    {
     "data": {
      "text/plain": [
       "Movie\n",
       "Margin Call    349\n",
       "dtype: int64"
      ]
     },
     "execution_count": 7,
     "metadata": {},
     "output_type": "execute_result"
    }
   ],
   "source": [
    "## There could be little differences of the counters\n",
    "## so don't panic if your data frame has 1-5 less reviews than expected.\n",
    "## My guess is that some reviews are hidden.\n",
    "\n",
    "movie_reviews.value_counts(\"Movie\")"
   ]
  },
  {
   "cell_type": "code",
   "execution_count": 8,
   "id": "c945f5ca",
   "metadata": {},
   "outputs": [
    {
     "name": "stdout",
     "output_type": "stream",
     "text": [
      "<class 'pandas.core.frame.DataFrame'>\n",
      "RangeIndex: 349 entries, 0 to 348\n",
      "Data columns (total 7 columns):\n",
      " #   Column        Non-Null Count  Dtype \n",
      "---  ------        --------------  ----- \n",
      " 0   Rating        349 non-null    object\n",
      " 1   Title         349 non-null    object\n",
      " 2   Date          349 non-null    object\n",
      " 3   Helpful_Vote  349 non-null    object\n",
      " 4   Total_Vote    349 non-null    object\n",
      " 5   Review        349 non-null    object\n",
      " 6   Movie         349 non-null    object\n",
      "dtypes: object(7)\n",
      "memory usage: 19.2+ KB\n"
     ]
    }
   ],
   "source": [
    "## Cheking the all data frame is something is wrong.\n",
    "\n",
    "movie_reviews.info()"
   ]
  },
  {
   "cell_type": "code",
   "execution_count": 9,
   "id": "f2eea1cd",
   "metadata": {},
   "outputs": [
    {
     "data": {
      "text/html": [
       "<div>\n",
       "<style scoped>\n",
       "    .dataframe tbody tr th:only-of-type {\n",
       "        vertical-align: middle;\n",
       "    }\n",
       "\n",
       "    .dataframe tbody tr th {\n",
       "        vertical-align: top;\n",
       "    }\n",
       "\n",
       "    .dataframe thead th {\n",
       "        text-align: right;\n",
       "    }\n",
       "</style>\n",
       "<table border=\"1\" class=\"dataframe\">\n",
       "  <thead>\n",
       "    <tr style=\"text-align: right;\">\n",
       "      <th></th>\n",
       "      <th>Rating</th>\n",
       "      <th>Title</th>\n",
       "      <th>Date</th>\n",
       "      <th>Helpful_Vote</th>\n",
       "      <th>Total_Vote</th>\n",
       "      <th>Review</th>\n",
       "      <th>Movie</th>\n",
       "    </tr>\n",
       "  </thead>\n",
       "  <tbody>\n",
       "  </tbody>\n",
       "</table>\n",
       "</div>"
      ],
      "text/plain": [
       "Empty DataFrame\n",
       "Columns: [Rating, Title, Date, Helpful_Vote, Total_Vote, Review, Movie]\n",
       "Index: []"
      ]
     },
     "execution_count": 9,
     "metadata": {},
     "output_type": "execute_result"
    }
   ],
   "source": [
    "## Thousand separators can be confusing and can change depending on your locale.\n",
    "## In this case I am checking the lenghtiest Total_Vote instances to detect what is going on.\n",
    "\n",
    "movie_reviews[movie_reviews.Total_Vote.str.len() > 4]"
   ]
  },
  {
   "cell_type": "code",
   "execution_count": 10,
   "id": "65b40a39",
   "metadata": {},
   "outputs": [
    {
     "name": "stderr",
     "output_type": "stream",
     "text": [
      "C:\\Users\\okanc\\AppData\\Local\\Temp\\ipykernel_8116\\1566177018.py:3: FutureWarning: The default value of regex will change from True to False in a future version. In addition, single character regular expressions will *not* be treated as literal strings when regex=True.\n",
      "  movie_reviews[\"Total_Vote\"] = movie_reviews.Total_Vote.str.replace(\".\", \"\")\n"
     ]
    }
   ],
   "source": [
    "## Just to be safe I am removing all dots and commas from Total_Vote variable\n",
    "\n",
    "movie_reviews[\"Total_Vote\"] = movie_reviews.Total_Vote.str.replace(\".\", \"\") \n",
    "movie_reviews[\"Total_Vote\"] = movie_reviews.Total_Vote.str.replace(\",\", \"\") "
   ]
  },
  {
   "cell_type": "code",
   "execution_count": 11,
   "id": "2769251d",
   "metadata": {},
   "outputs": [
    {
     "name": "stderr",
     "output_type": "stream",
     "text": [
      "C:\\Users\\okanc\\AppData\\Local\\Temp\\ipykernel_8116\\912685538.py:3: FutureWarning: The default value of regex will change from True to False in a future version. In addition, single character regular expressions will *not* be treated as literal strings when regex=True.\n",
      "  movie_reviews[\"Helpful_Vote\"] = movie_reviews.Helpful_Vote.str.replace(\".\", \"\")\n"
     ]
    }
   ],
   "source": [
    "## Same thing fot the Helpful_Vote variable \n",
    "\n",
    "movie_reviews[\"Helpful_Vote\"] = movie_reviews.Helpful_Vote.str.replace(\".\", \"\")\n",
    "movie_reviews[\"Helpful_Vote\"] = movie_reviews.Helpful_Vote.str.replace(\",\", \"\")"
   ]
  },
  {
   "cell_type": "code",
   "execution_count": 12,
   "id": "a4509d80",
   "metadata": {},
   "outputs": [
    {
     "name": "stdout",
     "output_type": "stream",
     "text": [
      "<class 'pandas.core.frame.DataFrame'>\n",
      "RangeIndex: 349 entries, 0 to 348\n",
      "Data columns (total 7 columns):\n",
      " #   Column        Non-Null Count  Dtype \n",
      "---  ------        --------------  ----- \n",
      " 0   Rating        349 non-null    object\n",
      " 1   Title         349 non-null    object\n",
      " 2   Date          349 non-null    object\n",
      " 3   Helpful_Vote  349 non-null    int64 \n",
      " 4   Total_Vote    349 non-null    int64 \n",
      " 5   Review        349 non-null    object\n",
      " 6   Movie         349 non-null    object\n",
      "dtypes: int64(2), object(5)\n",
      "memory usage: 19.2+ KB\n"
     ]
    }
   ],
   "source": [
    "## As a control measure, I am converting Total and Helpful_Vote variables\n",
    "## into integers. If this process raises an exception something went wrong.\n",
    "\n",
    "movie_reviews.astype({\"Helpful_Vote\" : \"int64\", \"Total_Vote\" : \"int64\"}).info()"
   ]
  },
  {
   "cell_type": "markdown",
   "id": "88dc144b",
   "metadata": {},
   "source": [
    "I also kept `Rating` variable as it is. I am only cleaning that can become a real problem in data reading process such as thousand separators.\n",
    "\n",
    "Other variables are kept as objects because they are text data. \n",
    "\n",
    "Lastly, I save the data as a csv file and re-reading it if there are problems."
   ]
  },
  {
   "cell_type": "code",
   "execution_count": 13,
   "id": "5e123ab5",
   "metadata": {},
   "outputs": [],
   "source": [
    "movie_reviews.to_csv(\"file-name.csv\", index=False)"
   ]
  },
  {
   "cell_type": "code",
   "execution_count": 14,
   "id": "3a42ef52",
   "metadata": {
    "scrolled": false
   },
   "outputs": [
    {
     "name": "stdout",
     "output_type": "stream",
     "text": [
      "<class 'pandas.core.frame.DataFrame'>\n",
      "RangeIndex: 2229 entries, 0 to 2228\n",
      "Data columns (total 7 columns):\n",
      " #   Column        Non-Null Count  Dtype \n",
      "---  ------        --------------  ----- \n",
      " 0   Rating        2170 non-null   object\n",
      " 1   Title         2229 non-null   object\n",
      " 2   Date          2229 non-null   object\n",
      " 3   Helpful_Vote  2229 non-null   int64 \n",
      " 4   Total_Vote    2229 non-null   int64 \n",
      " 5   Review        2229 non-null   object\n",
      " 6   Movie         2229 non-null   object\n",
      "dtypes: int64(2), object(5)\n",
      "memory usage: 122.0+ KB\n"
     ]
    }
   ],
   "source": [
    "## It is natural to have missing value on Rating column because \n",
    "## IMDB let's reviewers post reviews wihout a rating.\n",
    "\n",
    "pd.read_csv(\"file-name.csv\").info()"
   ]
  },
  {
   "cell_type": "code",
   "execution_count": 13,
   "id": "acd14f13",
   "metadata": {},
   "outputs": [],
   "source": [
    "## Closing the Selenium Webdriver.\n",
    "## It saves up resources properly.\n",
    "\n",
    "driver.close()\n",
    "driver.quit()"
   ]
  },
  {
   "cell_type": "code",
   "execution_count": null,
   "id": "bad9bc40",
   "metadata": {},
   "outputs": [],
   "source": []
  },
  {
   "cell_type": "code",
   "execution_count": null,
   "id": "3b6a6a90",
   "metadata": {},
   "outputs": [],
   "source": []
  },
  {
   "cell_type": "code",
   "execution_count": null,
   "id": "6ad36e97",
   "metadata": {},
   "outputs": [],
   "source": []
  },
  {
   "cell_type": "code",
   "execution_count": null,
   "id": "3b3140eb",
   "metadata": {},
   "outputs": [],
   "source": []
  }
 ],
 "metadata": {
  "kernelspec": {
   "display_name": "Python 3 (ipykernel)",
   "language": "python",
   "name": "python3"
  },
  "language_info": {
   "codemirror_mode": {
    "name": "ipython",
    "version": 3
   },
   "file_extension": ".py",
   "mimetype": "text/x-python",
   "name": "python",
   "nbconvert_exporter": "python",
   "pygments_lexer": "ipython3",
   "version": "3.9.11"
  }
 },
 "nbformat": 4,
 "nbformat_minor": 5
}
